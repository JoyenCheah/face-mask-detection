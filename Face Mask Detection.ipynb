{
 "cells": [
  {
   "cell_type": "code",
   "execution_count": 1,
   "metadata": {},
   "outputs": [
    {
     "name": "stderr",
     "output_type": "stream",
     "text": [
      "Using TensorFlow backend.\n"
     ]
    }
   ],
   "source": [
    "import cv2,os\n",
    "import numpy as np\n",
    "from keras.models import Sequential\n",
    "from keras.layers import Dense,Activation,Flatten,Dropout\n",
    "from keras.layers import Conv2D,MaxPooling2D\n",
    "from keras.callbacks import ModelCheckpoint\n",
    "from sklearn.model_selection import train_test_split\n",
    "from keras.models import load_model\n",
    "import itertools\n",
    "import matplotlib.pyplot as plt\n",
    "from sklearn.metrics import classification_report, confusion_matrix"
   ]
  },
  {
   "cell_type": "markdown",
   "metadata": {},
   "source": [
    "# Data Preprocessing"
   ]
  },
  {
   "cell_type": "code",
   "execution_count": 2,
   "metadata": {},
   "outputs": [
    {
     "name": "stdout",
     "output_type": "stream",
     "text": [
      "{'without_mask': 0, 'with_mask': 1}\n",
      "['without_mask', 'with_mask']\n",
      "[0, 1]\n"
     ]
    }
   ],
   "source": [
    "data_path='dataset'\n",
    "categories=os.listdir(data_path)\n",
    "labels=[i for i in range(len(categories))]\n",
    "\n",
    "label_dict=dict(zip(categories,labels)) #empty dictionary\n",
    "\n",
    "print(label_dict)\n",
    "print(categories)\n",
    "print(labels)"
   ]
  },
  {
   "cell_type": "code",
   "execution_count": 3,
   "metadata": {},
   "outputs": [],
   "source": [
    "img_size=100\n",
    "data=[]\n",
    "target=[]\n",
    "\n",
    "\n",
    "for category in categories:\n",
    "    folder_path=os.path.join(data_path,category)\n",
    "    img_names=os.listdir(folder_path)\n",
    "        \n",
    "    for img_name in img_names:\n",
    "        img_path=os.path.join(folder_path,img_name)\n",
    "        img=cv2.imread(img_path)\n",
    "\n",
    "        try:\n",
    "            \n",
    "            gray=cv2.cvtColor(img,cv2.COLOR_BGR2GRAY)           \n",
    "            #Coverting the image into gray scale\n",
    "            resized=cv2.resize(gray,(img_size,img_size))\n",
    "            #resizing the gray scale into 100*100, since we need a fixed common size for all the images in the dataset\n",
    "            data.append(resized)\n",
    "            target.append(label_dict[category])\n",
    "            #appending the image and the label(categorized) into the list (dataset)\n",
    "\n",
    "        except Exception as e:\n",
    "            print('Exception:',e)\n",
    "            #if any exception rasied, the exception will be printed here. And pass to "
   ]
  },
  {
   "cell_type": "code",
   "execution_count": 4,
   "metadata": {},
   "outputs": [],
   "source": [
    "data=np.array(data)/255.0\n",
    "data=np.reshape(data,(data.shape[0],img_size,img_size,1))\n",
    "target=np.array(target)\n",
    "\n",
    "from keras.utils import np_utils\n",
    "\n",
    "new_target=np_utils.to_categorical(target)\n",
    "\n",
    "np.save('data',data)\n",
    "np.save('target',new_target)"
   ]
  },
  {
   "cell_type": "code",
   "execution_count": 5,
   "metadata": {},
   "outputs": [],
   "source": [
    "data=np.load('data.npy')\n",
    "target=np.load('target.npy')"
   ]
  },
  {
   "cell_type": "markdown",
   "metadata": {},
   "source": [
    "# Data Training\n"
   ]
  },
  {
   "cell_type": "code",
   "execution_count": 6,
   "metadata": {},
   "outputs": [],
   "source": [
    "#CNN\n",
    "\n",
    "model=Sequential()\n",
    "\n",
    "#The first CNN layer\n",
    "\n",
    "#Convolution layer of a kernel size 200\n",
    "model.add(Conv2D(200,(3,3),input_shape=data.shape[1:]))\n",
    "#Relu layer\n",
    "model.add(Activation('relu'))\n",
    "#MaxPooling layer\n",
    "model.add(MaxPooling2D(pool_size=(2,2)))\n",
    "\n",
    "#The second convolution layer\n",
    "\n",
    "#Convolution layer of a kernel size 100\n",
    "model.add(Conv2D(100,(3,3)))\n",
    "#Relu layer\n",
    "model.add(Activation('relu'))\n",
    "#MaxPooling layer\n",
    "model.add(MaxPooling2D(pool_size=(2,2)))\n",
    "\n",
    "#Flatten layer to stack the output convolutions from second convolution layer\n",
    "model.add(Flatten())\n",
    "\n",
    "#Performing Dropout to avoid overfitting\n",
    "model.add(Dropout(0.5))\n",
    "\n",
    "#Dense layer of 64 neurons\n",
    "model.add(Dense(50,activation='relu'))\n",
    "\n",
    "#The Final layer with two outputs for two categories\n",
    "model.add(Dense(2,activation='softmax'))\n",
    "\n",
    "#Compiling the model\n",
    "model.compile(loss='categorical_crossentropy',optimizer='adam',metrics=['accuracy'])\n",
    "\n"
   ]
  },
  {
   "cell_type": "code",
   "execution_count": 7,
   "metadata": {},
   "outputs": [
    {
     "name": "stdout",
     "output_type": "stream",
     "text": [
      "Model: \"sequential_1\"\n",
      "_________________________________________________________________\n",
      "Layer (type)                 Output Shape              Param #   \n",
      "=================================================================\n",
      "conv2d_1 (Conv2D)            (None, 98, 98, 200)       2000      \n",
      "_________________________________________________________________\n",
      "activation_1 (Activation)    (None, 98, 98, 200)       0         \n",
      "_________________________________________________________________\n",
      "max_pooling2d_1 (MaxPooling2 (None, 49, 49, 200)       0         \n",
      "_________________________________________________________________\n",
      "conv2d_2 (Conv2D)            (None, 47, 47, 100)       180100    \n",
      "_________________________________________________________________\n",
      "activation_2 (Activation)    (None, 47, 47, 100)       0         \n",
      "_________________________________________________________________\n",
      "max_pooling2d_2 (MaxPooling2 (None, 23, 23, 100)       0         \n",
      "_________________________________________________________________\n",
      "flatten_1 (Flatten)          (None, 52900)             0         \n",
      "_________________________________________________________________\n",
      "dropout_1 (Dropout)          (None, 52900)             0         \n",
      "_________________________________________________________________\n",
      "dense_1 (Dense)              (None, 50)                2645050   \n",
      "_________________________________________________________________\n",
      "dense_2 (Dense)              (None, 2)                 102       \n",
      "=================================================================\n",
      "Total params: 2,827,252\n",
      "Trainable params: 2,827,252\n",
      "Non-trainable params: 0\n",
      "_________________________________________________________________\n"
     ]
    }
   ],
   "source": [
    "model.summary()"
   ]
  },
  {
   "cell_type": "code",
   "execution_count": 8,
   "metadata": {},
   "outputs": [],
   "source": [
    "#Split data to train and test set (80:20)\n",
    "train_data,test_data,train_target,test_target=train_test_split(data,target,test_size=0.2)"
   ]
  },
  {
   "cell_type": "code",
   "execution_count": 10,
   "metadata": {},
   "outputs": [
    {
     "name": "stdout",
     "output_type": "stream",
     "text": [
      "Train on 2413 samples, validate on 604 samples\n",
      "Epoch 1/20\n",
      "2413/2413 [==============================] - 113s 47ms/step - loss: 0.5939 - accuracy: 0.6855 - val_loss: 0.4253 - val_accuracy: 0.8129\n",
      "Epoch 2/20\n",
      "2413/2413 [==============================] - 108s 45ms/step - loss: 0.4304 - accuracy: 0.7973 - val_loss: 0.3772 - val_accuracy: 0.8444\n",
      "Epoch 3/20\n",
      "2413/2413 [==============================] - 108s 45ms/step - loss: 0.3418 - accuracy: 0.8421 - val_loss: 0.3164 - val_accuracy: 0.8576\n",
      "Epoch 4/20\n",
      "2413/2413 [==============================] - 114s 47ms/step - loss: 0.2633 - accuracy: 0.8902 - val_loss: 0.2848 - val_accuracy: 0.8874\n",
      "Epoch 5/20\n",
      "2413/2413 [==============================] - 107s 44ms/step - loss: 0.2248 - accuracy: 0.9105 - val_loss: 0.2726 - val_accuracy: 0.8874\n",
      "Epoch 6/20\n",
      "2413/2413 [==============================] - 108s 45ms/step - loss: 0.1879 - accuracy: 0.9200 - val_loss: 0.2812 - val_accuracy: 0.8957\n",
      "Epoch 7/20\n",
      "2413/2413 [==============================] - 107s 44ms/step - loss: 0.1331 - accuracy: 0.9470 - val_loss: 0.2735 - val_accuracy: 0.8907\n",
      "Epoch 8/20\n",
      "2413/2413 [==============================] - 109s 45ms/step - loss: 0.1364 - accuracy: 0.9536 - val_loss: 0.3061 - val_accuracy: 0.8940\n",
      "Epoch 9/20\n",
      "2413/2413 [==============================] - 117s 48ms/step - loss: 0.0907 - accuracy: 0.9693 - val_loss: 0.2904 - val_accuracy: 0.9056\n",
      "Epoch 10/20\n",
      "2413/2413 [==============================] - 115s 48ms/step - loss: 0.0811 - accuracy: 0.9681 - val_loss: 0.2924 - val_accuracy: 0.9139\n",
      "Epoch 11/20\n",
      "2413/2413 [==============================] - 122s 50ms/step - loss: 0.0655 - accuracy: 0.9747 - val_loss: 0.2930 - val_accuracy: 0.9106\n",
      "Epoch 12/20\n",
      "2413/2413 [==============================] - 116s 48ms/step - loss: 0.0460 - accuracy: 0.9814 - val_loss: 0.3342 - val_accuracy: 0.9189\n",
      "Epoch 13/20\n",
      "2413/2413 [==============================] - 108s 45ms/step - loss: 0.0558 - accuracy: 0.9793 - val_loss: 0.3639 - val_accuracy: 0.8924\n",
      "Epoch 14/20\n",
      "2413/2413 [==============================] - 113s 47ms/step - loss: 0.0458 - accuracy: 0.9867 - val_loss: 0.3553 - val_accuracy: 0.9272\n",
      "Epoch 15/20\n",
      "2413/2413 [==============================] - 119s 49ms/step - loss: 0.0273 - accuracy: 0.9909 - val_loss: 0.3793 - val_accuracy: 0.9172\n",
      "Epoch 16/20\n",
      "2413/2413 [==============================] - 120s 50ms/step - loss: 0.0319 - accuracy: 0.9884 - val_loss: 0.3831 - val_accuracy: 0.9238\n",
      "Epoch 17/20\n",
      "2413/2413 [==============================] - 118s 49ms/step - loss: 0.0218 - accuracy: 0.9934 - val_loss: 0.3587 - val_accuracy: 0.9205\n",
      "Epoch 18/20\n",
      "2413/2413 [==============================] - 117s 48ms/step - loss: 0.0238 - accuracy: 0.9925 - val_loss: 0.4157 - val_accuracy: 0.9056\n",
      "Epoch 19/20\n",
      "2413/2413 [==============================] - 116s 48ms/step - loss: 0.0322 - accuracy: 0.9884 - val_loss: 0.3268 - val_accuracy: 0.9255\n",
      "Epoch 20/20\n",
      "2413/2413 [==============================] - 114s 47ms/step - loss: 0.0141 - accuracy: 0.9967 - val_loss: 0.3750 - val_accuracy: 0.9238\n"
     ]
    }
   ],
   "source": [
    "#Training\n",
    "checkpoint = ModelCheckpoint('model-{epoch:03d}.model',monitor='val_loss',verbose=0,save_best_only=True,mode='auto')\n",
    "history=model.fit(train_data,train_target,epochs=20,callbacks=[checkpoint],validation_split=0.2)"
   ]
  },
  {
   "cell_type": "code",
   "execution_count": 11,
   "metadata": {},
   "outputs": [],
   "source": [
    "model.save('my_model.h5')"
   ]
  },
  {
   "cell_type": "code",
   "execution_count": 12,
   "metadata": {},
   "outputs": [
    {
     "name": "stdout",
     "output_type": "stream",
     "text": [
      "Model: \"sequential_1\"\n",
      "_________________________________________________________________\n",
      "Layer (type)                 Output Shape              Param #   \n",
      "=================================================================\n",
      "conv2d_1 (Conv2D)            (None, 98, 98, 200)       2000      \n",
      "_________________________________________________________________\n",
      "activation_1 (Activation)    (None, 98, 98, 200)       0         \n",
      "_________________________________________________________________\n",
      "max_pooling2d_1 (MaxPooling2 (None, 49, 49, 200)       0         \n",
      "_________________________________________________________________\n",
      "conv2d_2 (Conv2D)            (None, 47, 47, 100)       180100    \n",
      "_________________________________________________________________\n",
      "activation_2 (Activation)    (None, 47, 47, 100)       0         \n",
      "_________________________________________________________________\n",
      "max_pooling2d_2 (MaxPooling2 (None, 23, 23, 100)       0         \n",
      "_________________________________________________________________\n",
      "flatten_1 (Flatten)          (None, 52900)             0         \n",
      "_________________________________________________________________\n",
      "dropout_1 (Dropout)          (None, 52900)             0         \n",
      "_________________________________________________________________\n",
      "dense_1 (Dense)              (None, 50)                2645050   \n",
      "_________________________________________________________________\n",
      "dense_2 (Dense)              (None, 2)                 102       \n",
      "=================================================================\n",
      "Total params: 2,827,252\n",
      "Trainable params: 2,827,252\n",
      "Non-trainable params: 0\n",
      "_________________________________________________________________\n",
      "755/755 [==============================] - 9s 12ms/step\n",
      "Accuracy of the Model 92.05%\n"
     ]
    }
   ],
   "source": [
    "#Load the saved model and predict the accuracy\n",
    "\n",
    "model1 = load_model('my_model.h5')\n",
    "model1.summary()\n",
    "results = model1.evaluate(test_data,test_target)\n",
    "print(\"Accuracy of the Model %.2f%%\" % ( results[1]*100))"
   ]
  },
  {
   "cell_type": "code",
   "execution_count": 13,
   "metadata": {},
   "outputs": [],
   "source": [
    "# Confusion matrix\n",
    "def plot_confusion_matrix(cm, classes,\n",
    "                          normalize=False,\n",
    "                          title='Confusion matrix',\n",
    "                          cmap=plt.cm.Blues):\n",
    "    \"\"\"\n",
    "    This function prints and plots the confusion matrix.\n",
    "    Normalization can be applied by setting `normalize=True`.\n",
    "    \"\"\"\n",
    "    if normalize:\n",
    "        cm = cm.astype('float') / cm.sum(axis=1)[:, np.newaxis]\n",
    "        print(\"Normalized confusion matrix\")\n",
    "    else:\n",
    "        print('Confusion matrix')\n",
    "\n",
    "    print(cm)\n",
    "\n",
    "    plt.imshow(cm, interpolation='nearest', cmap=cmap)\n",
    "    plt.title(title)\n",
    "    plt.colorbar()\n",
    "    tick_marks = np.arange(len(classes))\n",
    "    plt.xticks(tick_marks, classes, rotation=45)\n",
    "    plt.yticks(tick_marks, classes)\n",
    "\n",
    "    fmt = '.2f' if normalize else 'd'\n",
    "    thresh = cm.max() / 2.\n",
    "    for i, j in itertools.product(range(cm.shape[0]), range(cm.shape[1])):\n",
    "        plt.text(j, i, format(cm[i, j], fmt),\n",
    "                 horizontalalignment=\"center\",\n",
    "                 color=\"white\" if cm[i, j] > thresh else \"black\")\n",
    "\n",
    "    plt.tight_layout()\n",
    "    plt.ylabel('True label')\n",
    "    plt.xlabel('Predicted label')"
   ]
  },
  {
   "cell_type": "code",
   "execution_count": 14,
   "metadata": {},
   "outputs": [],
   "source": [
    "#Predict Y values\n",
    "y_predicted = model1.predict(test_data)\n",
    "\n",
    "# get the max values in y_test and put into a list\n",
    "y_test = [np.argmax(j) for j in test_target]\n",
    "\n",
    "# get the max values in y_pred and put into a list    \n",
    "y_pred = [np.argmax(i) for i in y_predicted]"
   ]
  },
  {
   "cell_type": "code",
   "execution_count": 15,
   "metadata": {},
   "outputs": [
    {
     "name": "stdout",
     "output_type": "stream",
     "text": [
      "Confusion matrix\n",
      "[[358  21]\n",
      " [ 39 337]]\n"
     ]
    },
    {
     "data": {
      "image/png": "[encoded data removed]",
      "text/plain": [
       "<Figure size 432x288 with 2 Axes>"
      ]
     },
     "metadata": {
      "needs_background": "light"
     },
     "output_type": "display_data"
    }
   ],
   "source": [
    "#Plot the confusion matrix\n",
    "# 0 for without mask, 1 for with mask\n",
    "names = [\"0\", \"1\"]\n",
    "cm = confusion_matrix(y_test, y_pred,labels=[0,1])\n",
    "plt.figure()\n",
    "plot_confusion_matrix(cm, classes=names, title='Confusion matrix')"
   ]
  },
  {
   "cell_type": "code",
   "execution_count": 16,
   "metadata": {},
   "outputs": [],
   "source": [
    "#Print Classification report and plot the learning curves (training and validation accuracy and loss) of the model\n",
    "\n",
    "def evaluate(train_data,train_target,test_data,test_target):\n",
    "  score = model1.evaluate(train_data, train_target, verbose=0) # get training accuracy using training data\n",
    "  print(\"Training Accuracy: \", score[1])\n",
    "  score = model1.evaluate(test_data, test_target, verbose=0) # get testing accuracy using testing data\n",
    "  print(\"Testing Accuracy: \", score[1])\n",
    "\n",
    "def model_eval():\n",
    "  fig, (ax1, ax2) = plt.subplots(1,2, figsize=(16,5))\n",
    "  ax1.plot(history.history['accuracy'], label='accuracy')\n",
    "  ax1.plot(history.history['val_accuracy'], label='val_accuracy')\n",
    "  ax1.set_xlabel('Epoch')\n",
    "  ax1.set_ylabel('Accuracy')\n",
    "  ax1.legend()\n",
    "  ax2.plot(history.history['loss'], label='loss')\n",
    "  ax2.plot(history.history['val_loss'], label='val_loss')\n",
    "  ax1.set_xlabel('Epoch')\n",
    "  ax1.set_ylabel('Accuracy')\n",
    "  ax2.legend()\n",
    "  print(evaluate(train_data,train_target,test_data,test_target))\n",
    "  print(classification_report(y_test,y_pred))  "
   ]
  },
  {
   "cell_type": "code",
   "execution_count": 17,
   "metadata": {},
   "outputs": [
    {
     "name": "stdout",
     "output_type": "stream",
     "text": [
      "Training Accuracy:  0.9844216108322144\n",
      "Testing Accuracy:  0.9205297827720642\n",
      "None\n",
      "              precision    recall  f1-score   support\n",
      "\n",
      "           0       0.90      0.94      0.92       379\n",
      "           1       0.94      0.90      0.92       376\n",
      "\n",
      "    accuracy                           0.92       755\n",
      "   macro avg       0.92      0.92      0.92       755\n",
      "weighted avg       0.92      0.92      0.92       755\n",
      "\n"
     ]
    },
    {
     "data": {
      "image/png": "[encoded data removed]",
      "text/plain": [
       "<Figure size 1152x360 with 2 Axes>"
      ]
     },
     "metadata": {
      "needs_background": "light"
     },
     "output_type": "display_data"
    }
   ],
   "source": [
    "model_eval()"
   ]
  },
  {
   "cell_type": "markdown",
   "metadata": {},
   "source": [
    "# Detecting face mask in real-time "
   ]
  },
  {
   "cell_type": "code",
   "execution_count": 19,
   "metadata": {},
   "outputs": [],
   "source": [
    "#Using openCV\n",
    "\n",
    "model = load_model('my_model.h5')\n",
    "\n",
    "face_clsfr=cv2.CascadeClassifier('haarcascade_frontalface_default.xml')\n",
    "\n",
    "source=cv2.VideoCapture(0)\n",
    "width=int(source.get(cv2.CAP_PROP_FRAME_WIDTH))\n",
    "height=int(source.get(cv2.CAP_PROP_FRAME_HEIGHT))\n",
    "\n",
    "writer=cv2.VideoWriter(\"outputfile.mp4\",cv2.VideoWriter_fourcc(*'DIVX'),20,(width,height))\n",
    "\n",
    "\n",
    "\n",
    "labels_dict={1:'MASK',0:'NO MASK'}\n",
    "color_dict={0:(0,0,255),1:(0,255,0)}\n",
    "\n",
    "while(True):\n",
    "\n",
    "    ret,img=source.read()\n",
    "    gray=cv2.cvtColor(img,cv2.COLOR_BGR2GRAY)\n",
    "    faces=face_clsfr.detectMultiScale(gray,1.3,5)  \n",
    "\n",
    "    for (x,y,w,h) in faces:\n",
    "    \n",
    "        face_img=gray[y:y+w,x:x+w]\n",
    "        resized=cv2.resize(face_img,(100,100))\n",
    "        normalized=resized/255.0\n",
    "        reshaped=np.reshape(normalized,(1,100,100,1))\n",
    "        result=model.predict(reshaped)\n",
    "\n",
    "        label=np.argmax(result,axis=1)[0]\n",
    "      \n",
    "        cv2.rectangle(img,(x,y),(x+w,y+h),color_dict[label],2)\n",
    "        cv2.rectangle(img,(x,y-40),(x+w,y),color_dict[label],-1)\n",
    "        cv2.putText(img, labels_dict[label], (x, y-10),cv2.FONT_HERSHEY_SIMPLEX,0.8,(255,255,255),2)\n",
    "        \n",
    "        \n",
    "    cv2.imshow('Face Mask Detector',img)\n",
    "    writer.write(img)\n",
    "    key=cv2.waitKey(1)\n",
    "    \n",
    "    if(key==27):\n",
    "        break\n",
    "        \n",
    "source.release()\n",
    "writer.release()       \n",
    "cv2.destroyAllWindows()"
   ]
  },
  {
   "cell_type": "code",
   "execution_count": null,
   "metadata": {},
   "outputs": [],
   "source": []
  }
 ],
 "metadata": {
  "kernelspec": {
   "display_name": "Python 3",
   "language": "python",
   "name": "python3"
  },
  "language_info": {
   "codemirror_mode": {
    "name": "ipython",
    "version": 3
   },
   "file_extension": ".py",
   "mimetype": "text/x-python",
   "name": "python",
   "nbconvert_exporter": "python",
   "pygments_lexer": "ipython3",
   "version": "3.6.12"
  }
 },
 "nbformat": 4,
 "nbformat_minor": 4
}
